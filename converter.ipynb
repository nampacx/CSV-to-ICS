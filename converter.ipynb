{
 "cells": [
  {
   "cell_type": "code",
   "execution_count": 54,
   "metadata": {},
   "outputs": [
    {
     "name": "stdout",
     "output_type": "stream",
     "text": [
      "Requirement already satisfied: ics in c:\\users\\mikokono\\appdata\\local\\programs\\python\\python39\\lib\\site-packages (0.7.2)\n",
      "Requirement already satisfied: pytz in c:\\users\\mikokono\\appdata\\local\\programs\\python\\python39\\lib\\site-packages (2024.2)\n",
      "Requirement already satisfied: attrs>=19.1.0 in c:\\users\\mikokono\\appdata\\local\\programs\\python\\python39\\lib\\site-packages (from ics) (25.1.0)\n",
      "Requirement already satisfied: six>1.5 in c:\\users\\mikokono\\appdata\\roaming\\python\\python39\\site-packages (from ics) (1.17.0)\n",
      "Requirement already satisfied: python-dateutil in c:\\users\\mikokono\\appdata\\roaming\\python\\python39\\site-packages (from ics) (2.9.0.post0)\n",
      "Requirement already satisfied: arrow>=0.11 in c:\\users\\mikokono\\appdata\\local\\programs\\python\\python39\\lib\\site-packages (from ics) (1.3.0)\n",
      "Requirement already satisfied: tatsu>4.2 in c:\\users\\mikokono\\appdata\\local\\programs\\python\\python39\\lib\\site-packages (from ics) (5.8.3)\n",
      "Requirement already satisfied: types-python-dateutil>=2.8.10 in c:\\users\\mikokono\\appdata\\local\\programs\\python\\python39\\lib\\site-packages (from arrow>=0.11->ics) (2.9.0.20241206)\n",
      "Note: you may need to restart the kernel to use updated packages.\n"
     ]
    },
    {
     "name": "stderr",
     "output_type": "stream",
     "text": [
      "WARNING: You are using pip version 22.0.4; however, version 25.0 is available.\n",
      "You should consider upgrading via the 'c:\\Users\\mikokono\\AppData\\Local\\Programs\\Python\\Python39\\python.exe -m pip install --upgrade pip' command.\n"
     ]
    }
   ],
   "source": [
    "pip install ics pytz"
   ]
  },
  {
   "cell_type": "code",
   "execution_count": 55,
   "metadata": {},
   "outputs": [],
   "source": [
    "file_path = 'data\\Dienstplan 2025.csv'"
   ]
  },
  {
   "cell_type": "code",
   "execution_count": 60,
   "metadata": {},
   "outputs": [
    {
     "name": "stdout",
     "output_type": "stream",
     "text": [
      "ICS file generated successfully.\n"
     ]
    }
   ],
   "source": [
    "from ics import Calendar, Event\n",
    "from datetime import datetime, timedelta\n",
    "import pytz\n",
    "import csv\n",
    "import os\n",
    "\n",
    "def read_csv(file_path):\n",
    "    data = []\n",
    "    \n",
    "    with open(file_path, mode='r', newline='', encoding='utf-8') as file:\n",
    "        csv_reader = csv.reader(file, delimiter=';')\n",
    "        header = next(csv_reader)\n",
    "\n",
    "        # Read the rows\n",
    "        for row in csv_reader:\n",
    "            if len(row) == 6:\n",
    "                datum, tag,  zeit, thema, ort, zuständig = row\n",
    "                data.append({\n",
    "                    'Datum': datum,\n",
    "                    'Tag': tag,\n",
    "                    'Uhrzeit':  zeit,\n",
    "                    'Thema': thema,\n",
    "                    'Ort': ort,\n",
    "                    'Zuständig': zuständig\n",
    "                })\n",
    "    \n",
    "    return data\n",
    "\n",
    "def create_event(name, start, end, description, timezone='CET'):\n",
    "    event = Event()\n",
    "    event.name = name\n",
    "    event.begin = datetime.strptime(start, '%Y-%m-%d %H:%M:%S').replace(tzinfo=pytz.timezone(timezone))\n",
    "    event.end = datetime.strptime(end, '%Y-%m-%d %H:%M:%S').replace(tzinfo=pytz.timezone(timezone))\n",
    "    event.description = description\n",
    "    return event\n",
    "\n",
    "# Example usage\n",
    "csv_data = read_csv(file_path)\n",
    "\n",
    "# Create a new calendar\n",
    "calendar = Calendar()\n",
    "\n",
    "# Loop through the CSV data and create events\n",
    "for row in csv_data:\n",
    "    # Add year 2025 to the date\n",
    "    start_date = f\"2025-{row['Datum'].split('.')[1]}-{row['Datum'].split('.')[0]}\"\n",
    "    start_time = row['Uhrzeit'].replace(' Uhr', ':00')\n",
    "    start = f\"{start_date} {start_time}\"\n",
    "    \n",
    "    # Assuming the event lasts 1 hour for the end time\n",
    "    end_datetime = datetime.strptime(f\"{start_date} {start_time}\", '%Y-%m-%d %H:%M:%S') + timedelta(hours=1, minutes=30)\n",
    "    end = end_datetime.strftime('%Y-%m-%d %H:%M:%S')\n",
    "    \n",
    "    event = create_event(row['Thema'], start, end, f\"Ort: {row['Ort']}, Zuständig: {row['Zuständig']}\")\n",
    "    calendar.events.add(event)\n",
    "\n",
    "# Write the calendar to an ICS file\n",
    "ics_filename = os.path.splitext(file_path)[0] + '.ics'\n",
    "\n",
    "# Write the calendar to an ICS file\n",
    "with open(ics_filename, 'w', encoding='utf-8') as f:\n",
    "    f.writelines(calendar)\n",
    "\n",
    "print(\"ICS file generated successfully.\")"
   ]
  }
 ],
 "metadata": {
  "kernelspec": {
   "display_name": "Python 3",
   "language": "python",
   "name": "python3"
  },
  "language_info": {
   "codemirror_mode": {
    "name": "ipython",
    "version": 3
   },
   "file_extension": ".py",
   "mimetype": "text/x-python",
   "name": "python",
   "nbconvert_exporter": "python",
   "pygments_lexer": "ipython3",
   "version": "3.9.13"
  }
 },
 "nbformat": 4,
 "nbformat_minor": 2
}
